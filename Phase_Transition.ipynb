{
  "nbformat": 4,
  "nbformat_minor": 0,
  "metadata": {
    "colab": {
      "provenance": [],
      "collapsed_sections": [],
      "authorship_tag": "ABX9TyO8NRQRZCIEBW0n/57bOfmb"
    },
    "kernelspec": {
      "name": "python3",
      "display_name": "Python 3"
    },
    "language_info": {
      "name": "python"
    }
  },
  "cells": [
    {
      "cell_type": "markdown",
      "source": [
        "# Exemplo de cálculo transição de fase no modelo de Erdo-Renyi"
      ],
      "metadata": {
        "id": "86Qnk1WeDYkU"
      }
    },
    {
      "cell_type": "code",
      "execution_count": 2,
      "metadata": {
        "id": "RnhRYoSdCPS2"
      },
      "outputs": [],
      "source": [
        "import networkx as nx\n",
        "import numpy as np\n",
        "import matplotlib.pyplot as plt\n",
        "import time"
      ]
    },
    {
      "cell_type": "code",
      "source": [
        "# numero de nós no grafo\n",
        "n = 500 \n",
        "# Lista de probabilidades p de criação de arestas.\n",
        "p = np.linspace(0, 0.1, n)\n",
        "\n",
        "# Lista com tamanho dos maiores componentes\n",
        "largest_cc = []\n",
        "start_time = time.time()\n",
        "# Cria grafo de Erdos-Renyi para cada probabilidade p e\n",
        "# armazena o valor do maior componente na lista.\n",
        "for i in range(n):\n",
        "    # Lista de grafos aleatorios com probabilidade p.\n",
        "    er = nx.gnp_random_graph(n,p[i])\n",
        "    # Tamanho do maior componente para cada probabilidade.\n",
        "    largest_cc.append(len(max(nx.connected_components(er), key=len)))\n",
        "\n",
        "total_time = time.time() - start_time\n",
        "print(\"For n = \", n)\n",
        "print(\"--- %s seconds ---\" % total_time )\n",
        "\n",
        "plt.plot(p, largest_cc)\n",
        "plt.xlabel(\"Probabilidade p\")\n",
        "plt.ylabel(\"Tamanho do maior componente\")\n",
        "plt.show()"
      ],
      "metadata": {
        "colab": {
          "base_uri": "https://localhost:8080/",
          "height": 314
        },
        "id": "G82hSfShDO75",
        "outputId": "6261bf50-2889-4c99-e32a-9dd6e78ac9d8"
      },
      "execution_count": 4,
      "outputs": [
        {
          "output_type": "stream",
          "name": "stdout",
          "text": [
            "For n =  500\n",
            "--- 25.79788589477539 seconds ---\n"
          ]
        },
        {
          "output_type": "display_data",
          "data": {
            "text/plain": [
              "<Figure size 432x288 with 1 Axes>"
            ],
            "image/png": "[encoded data removed]"
          },
          "metadata": {
            "needs_background": "light"
          }
        }
      ]
    }
  ]
}